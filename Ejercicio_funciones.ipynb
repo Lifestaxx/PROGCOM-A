{
  "nbformat": 4,
  "nbformat_minor": 0,
  "metadata": {
    "colab": {
      "provenance": [],
      "authorship_tag": "ABX9TyMo4F2MnLhb5NnaEYEvZFz8",
      "include_colab_link": true
    },
    "kernelspec": {
      "name": "python3",
      "display_name": "Python 3"
    },
    "language_info": {
      "name": "python"
    }
  },
  "cells": [
    {
      "cell_type": "markdown",
      "metadata": {
        "id": "view-in-github",
        "colab_type": "text"
      },
      "source": [
        "<a href=\"https://colab.research.google.com/github/Lifestaxx/PROGCOM-A/blob/main/Ejercicio_funciones.ipynb\" target=\"_parent\"><img src=\"https://colab.research.google.com/assets/colab-badge.svg\" alt=\"Open In Colab\"/></a>"
      ]
    },
    {
      "cell_type": "code",
      "execution_count": 53,
      "metadata": {
        "colab": {
          "base_uri": "https://localhost:8080/"
        },
        "id": "T9C_RQ0i8AQg",
        "outputId": "a4c082d2-be67-40d8-d1d2-fd6344bbc8c0"
      },
      "outputs": [
        {
          "name": "stdout",
          "output_type": "stream",
          "text": [
            "Ingrese el número máximo al cual desea establecer el intervalo de la lista para calcular los números primos en dicho rango 10\n"
          ]
        },
        {
          "output_type": "execute_result",
          "data": {
            "text/plain": [
              "[1, 2, 3, 4, 5, 6, 7, 8, 9, 10]"
            ]
          },
          "metadata": {},
          "execution_count": 53
        }
      ],
      "source": [
        "rango=int(input(\"Ingrese el número máximo al cual desea establecer el intervalo de la lista para calcular los números primos en dicho rango \"))\n",
        "numeros=[n for n in range(1,rango+1)]\n",
        "numeros"
      ]
    },
    {
      "cell_type": "code",
      "source": [
        "#Función tradicional\n",
        "def cubos(lista):\n",
        "  resultado=[]\n",
        "  for i in lista:\n",
        "    resultado.append(i**3)\n",
        "  return resultado\n",
        "\n",
        "cubos(numeros)"
      ],
      "metadata": {
        "colab": {
          "base_uri": "https://localhost:8080/"
        },
        "id": "Xt8ovfmZ9lpz",
        "outputId": "a66c7975-5445-4235-8347-63c19755d14b"
      },
      "execution_count": 54,
      "outputs": [
        {
          "output_type": "execute_result",
          "data": {
            "text/plain": [
              "[1, 8, 27, 64, 125, 216, 343, 512, 729, 1000]"
            ]
          },
          "metadata": {},
          "execution_count": 54
        }
      ]
    },
    {
      "cell_type": "code",
      "source": [
        "#Comprensión\n",
        "cubos2=[n**3 for n in numeros]\n",
        "cubos2"
      ],
      "metadata": {
        "colab": {
          "base_uri": "https://localhost:8080/"
        },
        "id": "nSBx_pby-dux",
        "outputId": "579e877d-453e-4d9a-f5d2-11268746a69d"
      },
      "execution_count": 55,
      "outputs": [
        {
          "output_type": "execute_result",
          "data": {
            "text/plain": [
              "[1, 8, 27, 64, 125, 216, 343, 512, 729, 1000]"
            ]
          },
          "metadata": {},
          "execution_count": 55
        }
      ]
    },
    {
      "cell_type": "code",
      "source": [
        "#Lambda\n",
        "cubos3=list(map(lambda n:n**3, numeros))\n",
        "cubos3"
      ],
      "metadata": {
        "colab": {
          "base_uri": "https://localhost:8080/"
        },
        "id": "T3h2dWld-saL",
        "outputId": "a161d3df-26d4-46cb-9ab1-f54f2e16ca37"
      },
      "execution_count": 56,
      "outputs": [
        {
          "output_type": "execute_result",
          "data": {
            "text/plain": [
              "[1, 8, 27, 64, 125, 216, 343, 512, 729, 1000]"
            ]
          },
          "metadata": {},
          "execution_count": 56
        }
      ]
    }
  ]
}