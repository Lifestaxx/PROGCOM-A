{
  "nbformat": 4,
  "nbformat_minor": 0,
  "metadata": {
    "colab": {
      "provenance": [],
      "authorship_tag": "ABX9TyPbhamcrlkW7ez2jgjiyF+B",
      "include_colab_link": true
    },
    "kernelspec": {
      "name": "python3",
      "display_name": "Python 3"
    },
    "language_info": {
      "name": "python"
    }
  },
  "cells": [
    {
      "cell_type": "markdown",
      "metadata": {
        "id": "view-in-github",
        "colab_type": "text"
      },
      "source": [
        "<a href=\"https://colab.research.google.com/github/Lifestaxx/PROGCOM-A/blob/main/Ejercicio_funci%C3%B3n_Juan_Diego_Su%C3%A1rez.ipynb\" target=\"_parent\"><img src=\"https://colab.research.google.com/assets/colab-badge.svg\" alt=\"Open In Colab\"/></a>"
      ]
    },
    {
      "cell_type": "code",
      "execution_count": 1,
      "metadata": {
        "id": "46I-3TTfd7WZ"
      },
      "outputs": [],
      "source": [
        "#Creando la clase humana\n",
        "class humano():\n",
        "  #Creando la función constructor\n",
        "  def __init__(self,nombre,ojos,cojos,boca,piernas,cpiel,estatura,peso,sexo):\n",
        "    self.nombre=nombre\n",
        "    self.ojos=ojos\n",
        "    self.cojos=cojos\n",
        "    self.boca=boca\n",
        "    self.piernas=piernas\n",
        "    self.cpiel=cpiel\n",
        "    self.estatura=estatura\n",
        "    self.peso=peso\n",
        "    self.sexo=sexo\n",
        "#Función tradicional estadísticas\n",
        "  def nadar(self,vel):\n",
        "    if self.piernas>=1 and vel<0:\n",
        "      print({self.nombre}, \"se está ahogando\")\n",
        "      vel=-vel\n",
        "      return vel\n",
        "    else:\n",
        "      print({self.nombre}, \"va nadando hacia adelante\")\n",
        "    if vel==0: return f\"{self.nombre} está quieto en la piscina\"\n",
        "    elif vel>0 and vel<=1: return f\"{self.nombre} está pataleando\"\n",
        "    elif vel>1 and vel<=1: return f\"{self.nombre} está nadando de perrito\"\n",
        "    elif vel>5 and vel<=10: return f\"{self.nombre} está nadando lentamente\"\n",
        "    elif vel>10 and vel<=20: return f\"{self.nombre} está nadando muy rápido\"\n",
        "    elif vel>20: return f\"{self.nombre} es un tiburón en el agua\"\n"
      ]
    },
    {
      "cell_type": "code",
      "source": [
        "JuanDiego=humano(\"Juan Diego\",2,\"café\",1,2,\"blancox\",1.82,66,\"masculino\")"
      ],
      "metadata": {
        "id": "SSbdVgPCfla1"
      },
      "execution_count": 2,
      "outputs": []
    },
    {
      "cell_type": "code",
      "source": [
        "JuanDiego.nadar(25)"
      ],
      "metadata": {
        "colab": {
          "base_uri": "https://localhost:8080/",
          "height": 53
        },
        "id": "fwn1vaH9gvjp",
        "outputId": "1c3666f6-b761-4cb4-ff79-32c0d8139a29"
      },
      "execution_count": 3,
      "outputs": [
        {
          "output_type": "stream",
          "name": "stdout",
          "text": [
            "{'Juan Diego'} va nadando hacia adelante\n"
          ]
        },
        {
          "output_type": "execute_result",
          "data": {
            "text/plain": [
              "'Juan Diego es un tiburón en el agua'"
            ],
            "application/vnd.google.colaboratory.intrinsic+json": {
              "type": "string"
            }
          },
          "metadata": {},
          "execution_count": 3
        }
      ]
    }
  ]
}