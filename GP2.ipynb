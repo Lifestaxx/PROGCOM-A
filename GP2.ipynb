{
  "nbformat": 4,
  "nbformat_minor": 0,
  "metadata": {
    "colab": {
      "provenance": [],
      "authorship_tag": "ABX9TyPWt07W6YgzPyy00ogK9gZs",
      "include_colab_link": true
    },
    "kernelspec": {
      "name": "python3",
      "display_name": "Python 3"
    },
    "language_info": {
      "name": "python"
    }
  },
  "cells": [
    {
      "cell_type": "markdown",
      "metadata": {
        "id": "view-in-github",
        "colab_type": "text"
      },
      "source": [
        "<a href=\"https://colab.research.google.com/github/Lifestaxx/PROGCOM-A/blob/main/GP2.ipynb\" target=\"_parent\"><img src=\"https://colab.research.google.com/assets/colab-badge.svg\" alt=\"Open In Colab\"/></a>"
      ]
    },
    {
      "cell_type": "code",
      "execution_count": 30,
      "metadata": {
        "colab": {
          "base_uri": "https://localhost:8080/"
        },
        "id": "s3kKEtj8s8kL",
        "outputId": "67890ef0-820e-42da-b6fc-0329b89e816b"
      },
      "outputs": [
        {
          "output_type": "stream",
          "name": "stdout",
          "text": [
            "Ingrese el valor en coordenadas cartesianas en x -5\n",
            "Ingrese el valor en coordenadas cartesianas en y 10\n",
            "Ingrese el valor en coordenadas cartesianas en z 3\n",
            "Las coordenadas cartesianas ingresadas corresponden a las coordenadas cilíndricas en (11.180339887498949, 296.56, 3)"
          ]
        }
      ],
      "source": [
        "def truncate_float(float_number, decimal_places):\n",
        "    multiplier = 10 ** decimal_places\n",
        "    return int(float_number * multiplier) / multiplier\n",
        "\n",
        "import math\n",
        "x=int(input(\"Ingrese el valor en coordenadas cartesianas en x \"))\n",
        "y=int(input(\"Ingrese el valor en coordenadas cartesianas en y \"))\n",
        "z=int(input(\"Ingrese el valor en coordenadas cartesianas en z \"))\n",
        "r=math.sqrt((x*x)+(y*y))\n",
        "o=((math.atan(y/x))*180)/math.pi\n",
        "if o<0.0 and o>-180.0:\n",
        "  o=360.0+o\n",
        "elif o<=-180.0 and o>-360.0:\n",
        "  o=180.0+o\n",
        "print(\"Las coordenadas cartesianas ingresadas corresponden a las coordenadas cilíndricas en \",end='(')\n",
        "print(r,truncate_float(o,2),z,sep=\", \",end=\")\")"
      ]
    }
  ]
}