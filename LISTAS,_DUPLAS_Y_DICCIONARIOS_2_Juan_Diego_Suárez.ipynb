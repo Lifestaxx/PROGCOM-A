{
  "nbformat": 4,
  "nbformat_minor": 0,
  "metadata": {
    "colab": {
      "provenance": [],
      "include_colab_link": true
    },
    "kernelspec": {
      "name": "python3",
      "display_name": "Python 3"
    },
    "language_info": {
      "name": "python"
    }
  },
  "cells": [
    {
      "cell_type": "markdown",
      "metadata": {
        "id": "view-in-github",
        "colab_type": "text"
      },
      "source": [
        "<a href=\"https://colab.research.google.com/github/Lifestaxx/PROGCOM-A/blob/main/LISTAS%2C_DUPLAS_Y_DICCIONARIOS_2_Juan_Diego_Su%C3%A1rez.ipynb\" target=\"_parent\"><img src=\"https://colab.research.google.com/assets/colab-badge.svg\" alt=\"Open In Colab\"/></a>"
      ]
    },
    {
      "cell_type": "markdown",
      "source": [
        "#SECUENCIA DE DATOS\n"
      ],
      "metadata": {
        "id": "SHcbrJhhNGOk"
      }
    },
    {
      "cell_type": "markdown",
      "source": [
        "##TUPLAS\n",
        "Similar a la lista, con la salvedad que no puede modificarse.\n",
        "Se declaran indicando sus elementos, separados por *comas*"
      ],
      "metadata": {
        "id": "325LVBzsM0x7"
      }
    },
    {
      "cell_type": "code",
      "execution_count": 1,
      "metadata": {
        "colab": {
          "base_uri": "https://localhost:8080/"
        },
        "id": "23GjaB68MkIG",
        "outputId": "04c6278d-1f7d-45b0-f138-461747ce6be7"
      },
      "outputs": [
        {
          "output_type": "execute_result",
          "data": {
            "text/plain": [
              "('primero', 'segundo', 'tercero', 'cuarto')"
            ]
          },
          "metadata": {},
          "execution_count": 1
        }
      ],
      "source": [
        "tupla=\"primero\",\"segundo\", \"tercero\", \"cuarto\"\n",
        "tupla"
      ]
    },
    {
      "cell_type": "code",
      "source": [
        "type(tupla)"
      ],
      "metadata": {
        "colab": {
          "base_uri": "https://localhost:8080/"
        },
        "id": "1EB8vGP-IZV0",
        "outputId": "3a98b9f9-0beb-40ce-be20-68b9b231f734"
      },
      "execution_count": null,
      "outputs": [
        {
          "output_type": "execute_result",
          "data": {
            "text/plain": [
              "tuple"
            ]
          },
          "metadata": {},
          "execution_count": 2
        }
      ]
    },
    {
      "cell_type": "markdown",
      "source": [
        "###Accediendo a los elementos de la tupla"
      ],
      "metadata": {
        "id": "yPn3XFg4PWpt"
      }
    },
    {
      "cell_type": "code",
      "source": [
        "#Accediendo a la lista por posición\n",
        "tupla[0]"
      ],
      "metadata": {
        "colab": {
          "base_uri": "https://localhost:8080/",
          "height": 36
        },
        "id": "-63XOgdXOzdR",
        "outputId": "9dee6561-d34e-4aa5-dd36-d98fb5fad6a1"
      },
      "execution_count": null,
      "outputs": [
        {
          "output_type": "execute_result",
          "data": {
            "text/plain": [
              "'primero'"
            ],
            "application/vnd.google.colaboratory.intrinsic+json": {
              "type": "string"
            }
          },
          "metadata": {},
          "execution_count": 3
        }
      ]
    },
    {
      "cell_type": "code",
      "source": [
        "#Accediendo a todos los elementos de la lista empleando el slicing\n",
        "tupla[:]"
      ],
      "metadata": {
        "colab": {
          "base_uri": "https://localhost:8080/"
        },
        "id": "cadWYF2xSW8L",
        "outputId": "5f024ff5-c40e-4c1c-a747-02ab8be4f85c"
      },
      "execution_count": null,
      "outputs": [
        {
          "output_type": "execute_result",
          "data": {
            "text/plain": [
              "('primero', 'segundo', 'tercero', 'cuarto')"
            ]
          },
          "metadata": {},
          "execution_count": 4
        }
      ]
    },
    {
      "cell_type": "code",
      "source": [
        "#Accediendo a los dos primeros elementos de la lista\n",
        "tupla[0:2]"
      ],
      "metadata": {
        "colab": {
          "base_uri": "https://localhost:8080/"
        },
        "id": "XsDQpQKISYiL",
        "outputId": "c12d5b1e-15a4-4ad4-85a4-f57c15f05dd2"
      },
      "execution_count": null,
      "outputs": [
        {
          "output_type": "execute_result",
          "data": {
            "text/plain": [
              "('primero', 'segundo')"
            ]
          },
          "metadata": {},
          "execution_count": 5
        }
      ]
    },
    {
      "cell_type": "code",
      "source": [
        "#Accediendo a los dos últimos elementos de la lista\n",
        "tupla[2:4]"
      ],
      "metadata": {
        "colab": {
          "base_uri": "https://localhost:8080/"
        },
        "id": "RNcXanPzTB7u",
        "outputId": "41716b4b-cbf1-4a93-b2af-afbc286dbe74"
      },
      "execution_count": null,
      "outputs": [
        {
          "output_type": "execute_result",
          "data": {
            "text/plain": [
              "('tercero', 'cuarto')"
            ]
          },
          "metadata": {},
          "execution_count": 6
        }
      ]
    },
    {
      "cell_type": "code",
      "source": [
        "#Existe otra forma para acceder a los dos últimos elementos de la lista?. Coloque la línea de código que hace esto.\n",
        "tupla[-2:]"
      ],
      "metadata": {
        "id": "Eg2ZIr5DTnFJ",
        "colab": {
          "base_uri": "https://localhost:8080/"
        },
        "outputId": "81d49b64-5a96-4651-cf8b-bf7f994ade7f"
      },
      "execution_count": 4,
      "outputs": [
        {
          "output_type": "execute_result",
          "data": {
            "text/plain": [
              "('tercero', 'cuarto')"
            ]
          },
          "metadata": {},
          "execution_count": 4
        }
      ]
    },
    {
      "cell_type": "code",
      "source": [
        "#Qué pasará cuando se usa un índice negativo? Ejemplo: tupla[-4], tupla[-3]\n",
        "tupla[-4]\n",
        "tupla[-3]\n",
        "#Cuando se usa un índice negativo se cuenta en reversa, es decir de atrás para adelante el orden de los elementos de la tupla en este caso."
      ],
      "metadata": {
        "id": "_0cx4i7CVF_6",
        "colab": {
          "base_uri": "https://localhost:8080/",
          "height": 35
        },
        "outputId": "39a540ee-7503-4426-98dc-0cd396c82c30"
      },
      "execution_count": 6,
      "outputs": [
        {
          "output_type": "execute_result",
          "data": {
            "text/plain": [
              "'segundo'"
            ],
            "application/vnd.google.colaboratory.intrinsic+json": {
              "type": "string"
            }
          },
          "metadata": {},
          "execution_count": 6
        }
      ]
    },
    {
      "cell_type": "code",
      "source": [
        "#Cómo podría saberse la posición de la tupla que ocupa un elemento?\n",
        "#Escriba el código que permita ingresar un elemento de la lista, e imprima la posición del elemento de la lista\n",
        "print(tupla)\n",
        "ele=str(input(\"Ingrese algun elemento contenido en la tupla \"))\n",
        "ele=ele.lower()\n",
        "if ele in tupla:\n",
        "  print(\"El elemento ingresado es el número\" ,tupla.index(ele), \"de posición de la lista\")\n",
        "else:\n",
        "  print(\"El elemento ingresado no hace parte de la lista\")"
      ],
      "metadata": {
        "id": "AFYUJpJCQG9p",
        "colab": {
          "base_uri": "https://localhost:8080/"
        },
        "outputId": "8468e26f-9a98-439b-f611-898270f240f3"
      },
      "execution_count": 8,
      "outputs": [
        {
          "output_type": "stream",
          "name": "stdout",
          "text": [
            "('primero', 'segundo', 'tercero', 'cuarto')\n",
            "Ingrese algun elemento contenido en la tupla segundo\n",
            "El elemento ingresado es el número 1 de posición de la lista\n"
          ]
        }
      ]
    },
    {
      "cell_type": "code",
      "source": [
        "#Cómo imprimir los elementos de posición par en una tupla? Para ello, cree una tupla de 12 elementos (en dos líneas de código)\n",
        "par=1,2,3,4,5,6,7,8,9,10,11,12\n",
        "for i in range (1,len(par),2):\n",
        "  print(par[i])"
      ],
      "metadata": {
        "colab": {
          "base_uri": "https://localhost:8080/"
        },
        "id": "P8Nxxc06JAId",
        "outputId": "148dc3cb-c741-4529-a77e-092e82f3c31a"
      },
      "execution_count": 17,
      "outputs": [
        {
          "output_type": "stream",
          "name": "stdout",
          "text": [
            "2\n",
            "4\n",
            "6\n",
            "8\n",
            "10\n",
            "12\n"
          ]
        }
      ]
    },
    {
      "cell_type": "markdown",
      "source": [
        "##Diccionarios\n",
        "Conjunto de valores emparejados. Es parecido a una lista pero su diferencia recide en que no tiene índices numéricos. Sus índices pueden ser cadenas, tuplas, o mezcla de ellas.\n",
        "Al definir un diccionario, los valores de cada par se separan entre ellos con dos puntos (:), y de los otros pares por comas (,). El conjunto debe estar acotado por llaves {}"
      ],
      "metadata": {
        "id": "OPiv0fe4R8__"
      }
    },
    {
      "cell_type": "code",
      "source": [
        "#Creando un diccionario vacío\n",
        "dic={}"
      ],
      "metadata": {
        "id": "cOFDzAILJ_PB"
      },
      "execution_count": 10,
      "outputs": []
    },
    {
      "cell_type": "code",
      "source": [
        "type (dic)"
      ],
      "metadata": {
        "colab": {
          "base_uri": "https://localhost:8080/"
        },
        "id": "roqwOhrhKD0u",
        "outputId": "3e832d66-e35a-4de3-a8bf-486c58fb3e5d"
      },
      "execution_count": 11,
      "outputs": [
        {
          "output_type": "execute_result",
          "data": {
            "text/plain": [
              "dict"
            ]
          },
          "metadata": {},
          "execution_count": 11
        }
      ]
    },
    {
      "cell_type": "code",
      "source": [
        "#Creando un diccionario\n",
        "dic={\"animal\":\"gato\", \"cosa\": \"piedra\", \"planta\":\"girasol\"}\n",
        "dic"
      ],
      "metadata": {
        "colab": {
          "base_uri": "https://localhost:8080/"
        },
        "id": "IWcP-gdYKKfX",
        "outputId": "3c2bde5b-b6d5-46cf-8c60-7f67974b9cd4"
      },
      "execution_count": 12,
      "outputs": [
        {
          "output_type": "execute_result",
          "data": {
            "text/plain": [
              "{'animal': 'gato', 'cosa': 'piedra', 'planta': 'girasol'}"
            ]
          },
          "metadata": {},
          "execution_count": 12
        }
      ]
    },
    {
      "cell_type": "code",
      "source": [
        "#Llamando un elemento del diccionario\n",
        "dic[\"animal\"]"
      ],
      "metadata": {
        "id": "sgr461D-SAqe",
        "colab": {
          "base_uri": "https://localhost:8080/",
          "height": 36
        },
        "outputId": "b633888e-c731-4650-cadb-e412da170c9e"
      },
      "execution_count": null,
      "outputs": [
        {
          "output_type": "execute_result",
          "data": {
            "text/plain": [
              "'gato'"
            ],
            "application/vnd.google.colaboratory.intrinsic+json": {
              "type": "string"
            }
          },
          "metadata": {},
          "execution_count": 21
        }
      ]
    },
    {
      "cell_type": "code",
      "source": [
        "#Cómo podrían llamarse los otros elementos del diccionario?\n",
        "print(dic[\"cosa\"])\n",
        "print(dic[\"planta\"])"
      ],
      "metadata": {
        "id": "kfp0ecWtKreC",
        "colab": {
          "base_uri": "https://localhost:8080/"
        },
        "outputId": "0958c35b-7d88-4bb6-e622-b610d1d8be26"
      },
      "execution_count": 13,
      "outputs": [
        {
          "output_type": "stream",
          "name": "stdout",
          "text": [
            "piedra\n",
            "girasol\n"
          ]
        }
      ]
    },
    {
      "cell_type": "code",
      "source": [
        "#Los diccionarios también pueden crearse explísitamente usando la función dict()\n",
        "dict2=dict(animal=[\"perro\", \"gato\", \"culebra\"], colores=\"azul\")\n",
        "#Arregle el error de impresión!! :O\n",
        "print(dict2)"
      ],
      "metadata": {
        "colab": {
          "base_uri": "https://localhost:8080/"
        },
        "id": "Alu-wPEfKwll",
        "outputId": "bd8ea61b-29c5-4ea0-ae58-ac89401c2d9d"
      },
      "execution_count": 14,
      "outputs": [
        {
          "output_type": "stream",
          "name": "stdout",
          "text": [
            "{'animal': ['perro', 'gato', 'culebra'], 'colores': 'azul'}\n"
          ]
        }
      ]
    },
    {
      "cell_type": "markdown",
      "source": [
        "**OJO!** Las claves del diccionario no pueden repetirse. Si se crea un diccionario con claves repetidas, la última siempre reemplazará a cualquier anterior"
      ],
      "metadata": {
        "id": "v97g8cGkLgCL"
      }
    },
    {
      "cell_type": "code",
      "source": [
        "superhéroe={\"nombre\":\"Clark Kent\", \"nombre\": \"Superman\", \"Ciudad\": \"Metrópolis\"}\n",
        "superhéroe"
      ],
      "metadata": {
        "colab": {
          "base_uri": "https://localhost:8080/"
        },
        "id": "Bq0O62caLocs",
        "outputId": "4b8f3bbd-4790-4324-9c2b-c07ba21c0060"
      },
      "execution_count": 19,
      "outputs": [
        {
          "output_type": "execute_result",
          "data": {
            "text/plain": [
              "{'nombre': 'Superman', 'Ciudad': 'Metrópolis'}"
            ]
          },
          "metadata": {},
          "execution_count": 19
        }
      ]
    },
    {
      "cell_type": "code",
      "source": [
        "#Se puede convertir de diccionario a lista? De diccionario a dupla? Cómo? Qué observa?\n",
        "#Diccionario a lista\n",
        "lista_superhéroe=superhéroe.keys()\n",
        "lista_superhéroe=list(lista_superhéroe)\n",
        "lista_valores=superhéroe.values()\n",
        "lista_valores=list(lista_valores)\n",
        "print(lista_superhéroe,lista_valores)\n",
        "\n",
        "#Diccionario a dupla\n",
        "tuplasuper=superhéroe.items()\n",
        "tuplasuper=list(tuplasuper)\n",
        "print(tuplasuper)\n",
        "\n",
        "#Se observa que con el comando .keys() se pueden tomar las llaves de un diccionario, al igual que con el comando .values() se toman los valores de cada llave, adicional a esto con el comando .items() toma todos los elementos\n",
        "#de un diccionario en forma de tupla, es decir la llave y el valor forman una tupla."
      ],
      "metadata": {
        "id": "yRqyyEQNMqgX",
        "colab": {
          "base_uri": "https://localhost:8080/"
        },
        "outputId": "d9b2ef39-7a44-4133-ca3b-500f92fada54"
      },
      "execution_count": 24,
      "outputs": [
        {
          "output_type": "stream",
          "name": "stdout",
          "text": [
            "['nombre', 'Ciudad'] ['Superman', 'Metrópolis']\n",
            "[('nombre', 'Superman'), ('Ciudad', 'Metrópolis')]\n"
          ]
        }
      ]
    },
    {
      "cell_type": "code",
      "source": [
        "#Se puede convertir de lista a diccionario? lista a dupla? Cómo? Qué observa?\n",
        "import itertools\n",
        "listadic=['A','a','B','b','C','c']\n",
        "listadic_iter=iter(listadic)\n",
        "listadic_dict_object=itertools.zip_longest(listadic_iter, listadic_iter, fillvalue=None)\n",
        "listadic_dict=dict(listadic_dict_object)\n",
        "print(listadic_dict)\n",
        "\n",
        "#Observo que se puede convertir de una lista a un diccionario utilizando la libreria itertools, y los comandos de iter e itertools.zip_longest para ordenar correctamente la lista y posteriormente con el comando dict la volvemos\n",
        "#diccionario a partir de la iteración correcta de la lista"
      ],
      "metadata": {
        "id": "160jkTu_M0K-",
        "colab": {
          "base_uri": "https://localhost:8080/"
        },
        "outputId": "59edcd36-e3c2-45a9-915f-f959c87974e1"
      },
      "execution_count": 27,
      "outputs": [
        {
          "output_type": "stream",
          "name": "stdout",
          "text": [
            "{'A': 'a', 'B': 'b', 'C': 'c'}\n"
          ]
        }
      ]
    },
    {
      "cell_type": "code",
      "source": [
        "#Se puede convertir de dupla a diccionario? dupla a Lista? Cómo? Qué observa?\n",
        "tupladic=\"A\",\"a\",\"B\",\"b\",\"C\",\"c\"\n",
        "tupladic_dict=dict(zip(tupladic[0::2], tupladic[1::2]))\n",
        "print(tupladic_dict)\n",
        "\n",
        "#Se observa que se puede convertir en este caso desde el primer elemento con paso 2 como las llaves del diccionario indicado por posición [0::2], y luego los valores de esta a partir de la posición [1::2] de la tupla, es decir\n",
        "#desde la segunda posición con paso dos, esto dentro del comando de dict para volver un diccionario respectivamente."
      ],
      "metadata": {
        "id": "lhcUq7Z9M2t0",
        "colab": {
          "base_uri": "https://localhost:8080/"
        },
        "outputId": "0859dc7a-0349-466e-ec60-7f74fdce578a"
      },
      "execution_count": 28,
      "outputs": [
        {
          "output_type": "stream",
          "name": "stdout",
          "text": [
            "{'A': 'a', 'B': 'b', 'C': 'c'}\n"
          ]
        }
      ]
    },
    {
      "cell_type": "code",
      "source": [],
      "metadata": {
        "id": "Mr5pf1ZnM5ZB"
      },
      "execution_count": null,
      "outputs": []
    },
    {
      "cell_type": "code",
      "source": [
        "#Recuerda este ejercicio? Cómo podría resolverse con diccionario?\n",
        "#Cómo se podría crear una matriz? Ingrese el código que permita generar una matriz 3x2, siendo la primera fila \"Nombre\", \"Peso\", \"Altura\"\n",
        "#y diligencie la segunda fila con números\n",
        "#Llame a esa matriz calculo_IMC\n",
        "#Debe imprimir\n",
        "#Nombre  Peso[kg] Altura[m]\n",
        "#\"Sofía\"    57      1.65\n",
        "matriz={\"Nombre\":\"Juan Diego\",\"Peso\":\"66\",\"Altura\":\"1.82\"}\n",
        "print(matriz)\n"
      ],
      "metadata": {
        "id": "NnNEsFRbaUul",
        "colab": {
          "base_uri": "https://localhost:8080/"
        },
        "outputId": "6fa4bf16-1cca-462a-f6f9-74b5056bd96d"
      },
      "execution_count": 29,
      "outputs": [
        {
          "output_type": "stream",
          "name": "stdout",
          "text": [
            "{'Nombre': 'Juan Diego', 'Peso': '66', 'Altura': '1.82'}\n"
          ]
        }
      ]
    },
    {
      "cell_type": "code",
      "source": [
        "#Genere una cuarta columna para la matriz IMC, que tenga como nombre IMC y calcule el índice de masa corporal. Esto es:\n",
        "#Nombre  Peso[kg] Altura[m]  IMC\n",
        "#\"Sofía\"    57      1.65     (agrege aquí el resultado del cálculo)\n",
        "\n",
        "\n",
        "\n"
      ],
      "metadata": {
        "id": "UZ_ueaXJdJsT"
      },
      "execution_count": null,
      "outputs": []
    },
    {
      "cell_type": "code",
      "source": [
        "#Genere una quinta columna en la matriz calculo_IMC que emita una descripción obtenida del IMC. Esto es:\n",
        "#Nombre  Peso[kg] Altura[m]  IMC        Descripción\n",
        "#\"Sofía\"    57      1.65     (calculo)  (Dependiendo del IMC debe registrar peso normal, sobrepeso, obesidad tipo I, obesidad tipo II... etc.\n",
        "\n",
        "\n",
        "\n"
      ],
      "metadata": {
        "id": "cgQqg0YJffSH"
      },
      "execution_count": null,
      "outputs": []
    },
    {
      "cell_type": "code",
      "source": [
        "#Conocer el tamaño del diccionario\n",
        "len(dic)"
      ],
      "metadata": {
        "colab": {
          "base_uri": "https://localhost:8080/"
        },
        "id": "KZ5QnAzbaH_v",
        "outputId": "f3ac1a7d-85e8-4a84-d4eb-0d9612d17a1e"
      },
      "execution_count": null,
      "outputs": [
        {
          "output_type": "execute_result",
          "data": {
            "text/plain": [
              "3"
            ]
          },
          "metadata": {},
          "execution_count": 31
        }
      ]
    },
    {
      "cell_type": "code",
      "source": [
        "#Cómo conocer el tamaño de una dupla?\n"
      ],
      "metadata": {
        "id": "rb_y79cQNXqh"
      },
      "execution_count": null,
      "outputs": []
    },
    {
      "cell_type": "code",
      "source": [
        "#Llenar una lista vacía\n",
        "ejemplo.append(\"Hola\")"
      ],
      "metadata": {
        "id": "JsgmYIkuSVFj"
      },
      "execution_count": null,
      "outputs": []
    },
    {
      "cell_type": "code",
      "source": [
        "#Agregar elementos a un diccionario\n",
        "ejemplo={\"fruta\":[\"banana\",\"sandía\"],\"número\":(4, 5),\"tipo\": False}\n",
        "ejemplo\n",
        "#Qué tipo de datos conforma ejemplo?, menciónelos por clave\n",
        "#fruta = tipo de dato\n",
        "#número = tipo de dato\n",
        "#tipo = tipo de dato"
      ],
      "metadata": {
        "colab": {
          "base_uri": "https://localhost:8080/"
        },
        "id": "q6LTGURtY_RM",
        "outputId": "c3d59507-f56e-442a-8bee-423c519596e1"
      },
      "execution_count": null,
      "outputs": [
        {
          "output_type": "execute_result",
          "data": {
            "text/plain": [
              "{'fruta': ['banana', 'sandía'], 'número': (4, 5), 'tipo': False}"
            ]
          },
          "metadata": {},
          "execution_count": 35
        }
      ]
    },
    {
      "cell_type": "code",
      "source": [
        "#Agregando elementos al diccionario\n",
        "ejemplo[\"héroe\"]=\"Superman\"\n",
        "ejemplo"
      ],
      "metadata": {
        "colab": {
          "base_uri": "https://localhost:8080/"
        },
        "id": "bM2VBzLIOSBy",
        "outputId": "48a8152a-0d0d-404d-de71-7e7952921b6c"
      },
      "execution_count": null,
      "outputs": [
        {
          "output_type": "execute_result",
          "data": {
            "text/plain": [
              "{'fruta': ['banana', 'sandía'],\n",
              " 'número': (4, 5),\n",
              " 'tipo': False,\n",
              " 'héroe': 'Superman'}"
            ]
          },
          "metadata": {},
          "execution_count": 36
        }
      ]
    },
    {
      "cell_type": "code",
      "source": [
        "#Eliminar un elemento del diccionario\n",
        "del ejemplo[\"héroe\"]\n",
        "ejemplo"
      ],
      "metadata": {
        "colab": {
          "base_uri": "https://localhost:8080/"
        },
        "id": "p_o0X4fKZw0k",
        "outputId": "ce664fe5-b254-46c8-cce7-a2e0e4f7fbd0"
      },
      "execution_count": null,
      "outputs": [
        {
          "output_type": "execute_result",
          "data": {
            "text/plain": [
              "{'fruta': ['banana', 'sandía'], 'número': (4, 5), 'tipo': False}"
            ]
          },
          "metadata": {},
          "execution_count": 37
        }
      ]
    },
    {
      "cell_type": "code",
      "source": [
        "#Inclusive, puede eliminarse el diccionario!!\n",
        "del ejemplo"
      ],
      "metadata": {
        "id": "Of_BSQMwPsFG"
      },
      "execution_count": null,
      "outputs": []
    },
    {
      "cell_type": "code",
      "source": [
        "#Podría explicar el error generado?\n",
        "ejemplo"
      ],
      "metadata": {
        "colab": {
          "base_uri": "https://localhost:8080/",
          "height": 189
        },
        "id": "ODz7MJvbbh8e",
        "outputId": "40840828-ab2f-4672-b863-d188e4c66700"
      },
      "execution_count": null,
      "outputs": [
        {
          "output_type": "error",
          "ename": "NameError",
          "evalue": "ignored",
          "traceback": [
            "\u001b[0;31m---------------------------------------------------------------------------\u001b[0m",
            "\u001b[0;31mNameError\u001b[0m                                 Traceback (most recent call last)",
            "\u001b[0;32m<ipython-input-39-75b5041f5f45>\u001b[0m in \u001b[0;36m<module>\u001b[0;34m\u001b[0m\n\u001b[1;32m      1\u001b[0m \u001b[0;31m#Podría explicar el error generado?\u001b[0m\u001b[0;34m\u001b[0m\u001b[0;34m\u001b[0m\u001b[0;34m\u001b[0m\u001b[0m\n\u001b[0;32m----> 2\u001b[0;31m \u001b[0mejemplo\u001b[0m\u001b[0;34m\u001b[0m\u001b[0;34m\u001b[0m\u001b[0m\n\u001b[0m",
            "\u001b[0;31mNameError\u001b[0m: name 'ejemplo' is not defined"
          ]
        }
      ]
    },
    {
      "cell_type": "markdown",
      "source": [
        "### EJERCICIO PARA ELIMINAR UN QUEST OBLIGATORIO ☝\n",
        "\n",
        "![Texto alternativo](https://cdn.memegenerator.es/imagenes/memes/full/28/50/28507442.jpg)\n",
        "\n",
        "Realiza el ejercicio propuesto de forma correcta antes de que acabe el tiempo, y hazte acreedor@ de eliminar un quest obligatorio ✨"
      ],
      "metadata": {
        "id": "hmS_3bTvgCph"
      }
    },
    {
      "cell_type": "code",
      "source": [
        "# Revise la página https://www.researchgate.net/publication/273298847_Piedra_Papel_Tijera_y_sus_generalizaciones\n",
        "#Programe Piedra, papel, tijera, spock, lagarto, Papa y heavy usando arreglos."
      ],
      "metadata": {
        "id": "p0SGwGpNgBaz"
      },
      "execution_count": null,
      "outputs": []
    },
    {
      "cell_type": "code",
      "source": [
        "dic={\"comida\":[\"Combo 1\", \"Combo 2\", \"Combo 3\"], \"precio combo\":[10000,20000,30000],\"bebida\":[\"Gaseosa\", \"Cerveza\", \"Agua\"]}\n",
        "dic[\"comida\"][0]"
      ],
      "metadata": {
        "colab": {
          "base_uri": "https://localhost:8080/",
          "height": 35
        },
        "id": "xLXqw4b8COMX",
        "outputId": "2ac365f3-85b9-4a84-e3c9-5b0c9c8c4545"
      },
      "execution_count": null,
      "outputs": [
        {
          "output_type": "execute_result",
          "data": {
            "text/plain": [
              "'Combo 1'"
            ],
            "application/vnd.google.colaboratory.intrinsic+json": {
              "type": "string"
            }
          },
          "metadata": {},
          "execution_count": 3
        }
      ]
    }
  ]
}