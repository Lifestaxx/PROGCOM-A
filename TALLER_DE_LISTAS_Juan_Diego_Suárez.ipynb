{
  "nbformat": 4,
  "nbformat_minor": 0,
  "metadata": {
    "colab": {
      "provenance": [],
      "include_colab_link": true
    },
    "kernelspec": {
      "name": "python3",
      "display_name": "Python 3"
    },
    "language_info": {
      "name": "python"
    }
  },
  "cells": [
    {
      "cell_type": "markdown",
      "metadata": {
        "id": "view-in-github",
        "colab_type": "text"
      },
      "source": [
        "<a href=\"https://colab.research.google.com/github/Lifestaxx/PROGCOM-A/blob/main/TALLER_DE_LISTAS_Juan_Diego_Su%C3%A1rez.ipynb\" target=\"_parent\"><img src=\"https://colab.research.google.com/assets/colab-badge.svg\" alt=\"Open In Colab\"/></a>"
      ]
    },
    {
      "cell_type": "markdown",
      "source": [
        "#SECUENCIA DE DATOS\n"
      ],
      "metadata": {
        "id": "SHcbrJhhNGOk"
      }
    },
    {
      "cell_type": "markdown",
      "source": [
        "##LISTAS\n",
        "También conocidas como vectores o arrays.\n",
        "Es una variable que, en lugar de contener un valor, contiene una secuencia ordenada de estos, a los que se puede acceder por su posición o por su índice.\n",
        "Se declaran indicando sus elementos, separados por comas, entre corchetes []"
      ],
      "metadata": {
        "id": "325LVBzsM0x7"
      }
    },
    {
      "cell_type": "code",
      "execution_count": 3,
      "metadata": {
        "colab": {
          "base_uri": "https://localhost:8080/"
        },
        "id": "23GjaB68MkIG",
        "outputId": "8dcf2e3f-a062-4592-a95a-825a123b08d3"
      },
      "outputs": [
        {
          "output_type": "execute_result",
          "data": {
            "text/plain": [
              "['primero', 'segundo', 'tercero', 'cuarto']"
            ]
          },
          "metadata": {},
          "execution_count": 3
        }
      ],
      "source": [
        "lista=[\"primero\",\"segundo\", \"tercero\", \"cuarto\"]\n",
        "lista"
      ]
    },
    {
      "cell_type": "markdown",
      "source": [
        "###Accediendo a los elementos de la lista"
      ],
      "metadata": {
        "id": "yPn3XFg4PWpt"
      }
    },
    {
      "cell_type": "code",
      "source": [
        "#Accediendo a la lista por posición\n",
        "lista[0]"
      ],
      "metadata": {
        "colab": {
          "base_uri": "https://localhost:8080/",
          "height": 36
        },
        "id": "-63XOgdXOzdR",
        "outputId": "7f06a027-7a82-4010-ecd1-baba488bea01"
      },
      "execution_count": null,
      "outputs": [
        {
          "output_type": "execute_result",
          "data": {
            "text/plain": [
              "'primero'"
            ],
            "application/vnd.google.colaboratory.intrinsic+json": {
              "type": "string"
            }
          },
          "metadata": {},
          "execution_count": 2
        }
      ]
    },
    {
      "cell_type": "code",
      "source": [
        "#Accediendo a todos los elementos de la lista empleando el slicing\n",
        "lista[:]"
      ],
      "metadata": {
        "colab": {
          "base_uri": "https://localhost:8080/"
        },
        "id": "cadWYF2xSW8L",
        "outputId": "1f0eb661-290a-467c-e251-f111393db281"
      },
      "execution_count": null,
      "outputs": [
        {
          "output_type": "execute_result",
          "data": {
            "text/plain": [
              "['primero', 'segundo', 'tercero', 'cuarto']"
            ]
          },
          "metadata": {},
          "execution_count": 4
        }
      ]
    },
    {
      "cell_type": "code",
      "source": [
        "#Accediendo a los dos primeros elementos de la lista\n",
        "lista[0:2]"
      ],
      "metadata": {
        "colab": {
          "base_uri": "https://localhost:8080/"
        },
        "id": "XsDQpQKISYiL",
        "outputId": "1a144327-f381-43b2-9303-5ab82cd8aa22"
      },
      "execution_count": null,
      "outputs": [
        {
          "output_type": "execute_result",
          "data": {
            "text/plain": [
              "['primero', 'segundo']"
            ]
          },
          "metadata": {},
          "execution_count": 5
        }
      ]
    },
    {
      "cell_type": "code",
      "source": [
        "#Existe alguna otra manera de imprimir los dos primeros elementos de la lista? Coloque la línea de código y verifíque su código a continuación.\n",
        "lista[:2]"
      ],
      "metadata": {
        "id": "miawsux8S7BD",
        "colab": {
          "base_uri": "https://localhost:8080/"
        },
        "outputId": "45da9388-6c9d-4ab5-baf3-4bedb035c355"
      },
      "execution_count": 4,
      "outputs": [
        {
          "output_type": "execute_result",
          "data": {
            "text/plain": [
              "['primero', 'segundo']"
            ]
          },
          "metadata": {},
          "execution_count": 4
        }
      ]
    },
    {
      "cell_type": "code",
      "source": [
        "#Accediendo a los dos últimos elementos de la lista\n",
        "lista[2:4]"
      ],
      "metadata": {
        "colab": {
          "base_uri": "https://localhost:8080/"
        },
        "id": "RNcXanPzTB7u",
        "outputId": "bdc54a73-bf98-4ddf-aec7-65e04e9e9a4b"
      },
      "execution_count": null,
      "outputs": [
        {
          "output_type": "execute_result",
          "data": {
            "text/plain": [
              "['tercero', 'cuarto']"
            ]
          },
          "metadata": {},
          "execution_count": 9
        }
      ]
    },
    {
      "cell_type": "code",
      "source": [
        "#Qué pasará cuando se usa un índice negativo? Ejemplo: lista[-4], lista[-3]\n",
        "lista[-4], lista[-3] #Cuando se usa un índice negativo se cuentan los espacios en sentido contrario, es decir de derecha a izquierda en sentido negativo"
      ],
      "metadata": {
        "id": "_0cx4i7CVF_6",
        "colab": {
          "base_uri": "https://localhost:8080/"
        },
        "outputId": "9b9704f0-2500-4d0c-f081-5e92a062013d"
      },
      "execution_count": 8,
      "outputs": [
        {
          "output_type": "execute_result",
          "data": {
            "text/plain": [
              "('primero', 'segundo')"
            ]
          },
          "metadata": {},
          "execution_count": 8
        }
      ]
    },
    {
      "cell_type": "code",
      "source": [
        "#Existe otra forma para acceder a los dos últimos elementos de la lista?. Coloque la línea de código que hace esto.\n",
        "lista[-2:]"
      ],
      "metadata": {
        "id": "Eg2ZIr5DTnFJ",
        "colab": {
          "base_uri": "https://localhost:8080/"
        },
        "outputId": "480fba92-d357-4392-e880-0a24b3e1f1e9"
      },
      "execution_count": 14,
      "outputs": [
        {
          "output_type": "execute_result",
          "data": {
            "text/plain": [
              "['tercero', 'cuarto']"
            ]
          },
          "metadata": {},
          "execution_count": 14
        }
      ]
    },
    {
      "cell_type": "code",
      "source": [
        "#Cómo podría saberse la posición de la lista que ocupa un elemento?\n",
        "#Escriba el código que permita ingresar un elemento de la lista, e imprima la posición del elemento de la lista\n",
        "print(lista)\n",
        "ele=str(input(\"Ingrese algun elemento contenido en la lista \"))\n",
        "ele=ele.lower()\n",
        "if ele in lista:\n",
        "  print(\"El elemento ingresado es el número\" ,lista.index(ele), \"de posición de la lista\")\n",
        "else:\n",
        "  print(\"El elemento ingresado no hace parte de la lista\")"
      ],
      "metadata": {
        "id": "AFYUJpJCQG9p",
        "colab": {
          "base_uri": "https://localhost:8080/"
        },
        "outputId": "27439b07-183f-46cb-960d-c5adb0e71157"
      },
      "execution_count": 18,
      "outputs": [
        {
          "output_type": "stream",
          "name": "stdout",
          "text": [
            "['primero', 'segundo', 'tercero', 'cuarto']\n",
            "Ingrese algun elemento contenido en la lista tercero\n",
            "El elemento ingresado es el número 2 de posición de la lista\n"
          ]
        }
      ]
    },
    {
      "cell_type": "markdown",
      "source": [
        "###Operaciones con las listas"
      ],
      "metadata": {
        "id": "OPiv0fe4R8__"
      }
    },
    {
      "cell_type": "code",
      "source": [
        "#Crear una lista vacía\n",
        "ejemplo=[]"
      ],
      "metadata": {
        "id": "sgr461D-SAqe"
      },
      "execution_count": 39,
      "outputs": []
    },
    {
      "cell_type": "code",
      "source": [
        "#Cómo se podría crear una matriz? Ingrese el código que permita generar una matriz 3x2, siendo la primera fila \"Nombre\", \"Peso\", \"Altura\"\n",
        "#y diligencie la segunda fila con números\n",
        "#Llame a esa matriz calculo_IMC\n",
        "#Debe imprimir\n",
        "#Nombre  Peso[kg] Altura[m]\n",
        "#\"Sofía\"    57      1.65\n",
        "calculo_IMC=[[\"Nombre\", \"Peso\", \"Altura\"],\n",
        "             [\"Juan Diego\", \"66\", \"1.82\"]]\n",
        "print(calculo_IMC[0])\n",
        "print(calculo_IMC[1])"
      ],
      "metadata": {
        "id": "NnNEsFRbaUul",
        "colab": {
          "base_uri": "https://localhost:8080/"
        },
        "outputId": "0b1f72ad-8c8d-4337-d617-837d5d3a9665"
      },
      "execution_count": 22,
      "outputs": [
        {
          "output_type": "stream",
          "name": "stdout",
          "text": [
            "['Nombre', 'Peso', 'Altura']\n",
            "['Juan Diego', '66', '1.82']\n"
          ]
        }
      ]
    },
    {
      "cell_type": "code",
      "source": [
        "#Genere una cuarta columna para la matriz IMC, que tenga como nombre IMC y calcule el índice de masa corporal. Esto es:\n",
        "#Nombre  Peso[kg] Altura[m]  IMC\n",
        "#\"Sofía\"    57      1.65     (agrege aquí el resultado del cálculo)\n",
        "def truncate_float(float_number, decimal_places):\n",
        "    multiplier = 10 ** decimal_places\n",
        "    return int(float_number * multiplier) / multiplier\n",
        "imc=float(calculo_IMC[1][1])/(float(calculo_IMC[1][2])*float(calculo_IMC[1][2]))\n",
        "calculo_IMC=[[\"Nombre\", \"Peso\", \"Altura\", \"IMC\"],\n",
        "             [\"Juan Diego\", \"66\", \"1.82\", truncate_float(imc,2)]]\n",
        "print(calculo_IMC[0])\n",
        "print(calculo_IMC[1])"
      ],
      "metadata": {
        "id": "UZ_ueaXJdJsT",
        "colab": {
          "base_uri": "https://localhost:8080/"
        },
        "outputId": "7f15a0d1-f296-4b3b-8598-662b79352609"
      },
      "execution_count": 35,
      "outputs": [
        {
          "output_type": "stream",
          "name": "stdout",
          "text": [
            "['Nombre', 'Peso', 'Altura', 'IMC']\n",
            "['Juan Diego', '66', '1.82', 19.92]\n"
          ]
        }
      ]
    },
    {
      "cell_type": "code",
      "source": [
        "#Genere una quinta columna en la matriz calculo_IMC que emita una descripción obtenida del IMC. Esto es:\n",
        "#Nombre  Peso[kg] Altura[m]  IMC        Descripción\n",
        "#\"Sofía\"    57      1.65     (calculo)  (Dependiendo del IMC debe registrar peso normal, sobrepeso, obesidad tipo I, obesidad tipo II... etc.\n",
        "def truncate_float(float_number, decimal_places):\n",
        "    multiplier = 10 ** decimal_places\n",
        "    return int(float_number * multiplier) / multiplier\n",
        "imc=float(calculo_IMC[1][1])/(float(calculo_IMC[1][2])*float(calculo_IMC[1][2]))\n",
        "if imc<18.5:\n",
        "  des=\"Por debajo\"\n",
        "elif imc>18.5 and imc<24.9:\n",
        "  des=\"Saludable\"\n",
        "elif imc>25 and imc<29.9:\n",
        "  des=\"Sobrepeso\"\n",
        "elif imc>30 and imc<34.9:\n",
        "  des=\"Obesidad I\"\n",
        "elif imc>35 and imc<39.9:\n",
        "  des=\"Obesidad II\"\n",
        "elif imc>40:\n",
        "  des=\"Obesidad III\"\n",
        "calculo_IMC=[[\"Nombre\", \"Peso\", \"Altura\", \"IMC\", \"Descripción\"],\n",
        "             [\"Juan Diego\", \"66\", \"1.82\", truncate_float(imc,2), des]]\n",
        "print(calculo_IMC[0])\n",
        "print(calculo_IMC[1])"
      ],
      "metadata": {
        "id": "cgQqg0YJffSH",
        "colab": {
          "base_uri": "https://localhost:8080/"
        },
        "outputId": "4de4245c-73a8-49fb-88d9-1ad49542e392"
      },
      "execution_count": 37,
      "outputs": [
        {
          "output_type": "stream",
          "name": "stdout",
          "text": [
            "['Nombre', 'Peso', 'Altura', 'IMC', 'Descripción']\n",
            "['Juan Diego', '66', '1.82', 19.92, 'Saludable']\n"
          ]
        }
      ]
    },
    {
      "cell_type": "code",
      "source": [
        "#Conocer el tamaño del vector\n",
        "len(ejemplo)"
      ],
      "metadata": {
        "colab": {
          "base_uri": "https://localhost:8080/"
        },
        "id": "KZ5QnAzbaH_v",
        "outputId": "a39d87f0-f352-4874-ee92-1f0aa4e3133e"
      },
      "execution_count": 40,
      "outputs": [
        {
          "output_type": "execute_result",
          "data": {
            "text/plain": [
              "0"
            ]
          },
          "metadata": {},
          "execution_count": 40
        }
      ]
    },
    {
      "cell_type": "code",
      "source": [
        "#Llenar una lista vacía\n",
        "ejemplo.append(\"Hola\")"
      ],
      "metadata": {
        "id": "JsgmYIkuSVFj"
      },
      "execution_count": 41,
      "outputs": []
    },
    {
      "cell_type": "code",
      "source": [
        "#Una lista puede tener diferente tipo de datos!!\n",
        "ejemplo=[\"banana\",\"sandía\", 4, 5, False]\n",
        "ejemplo\n",
        "#Qué pasó con el elemento \"Hola\"?"
      ],
      "metadata": {
        "colab": {
          "base_uri": "https://localhost:8080/"
        },
        "id": "q6LTGURtY_RM",
        "outputId": "7c778dbf-c43d-4bc7-bbca-fd56af60b161"
      },
      "execution_count": 42,
      "outputs": [
        {
          "output_type": "execute_result",
          "data": {
            "text/plain": [
              "['banana', 'sandía', 4, 5, False]"
            ]
          },
          "metadata": {},
          "execution_count": 42
        }
      ]
    },
    {
      "cell_type": "code",
      "source": [
        "#Eliminar un elemento de la lista\n",
        "ejemplo.remove(4)\n",
        "ejemplo"
      ],
      "metadata": {
        "colab": {
          "base_uri": "https://localhost:8080/"
        },
        "id": "p_o0X4fKZw0k",
        "outputId": "38fc5aa7-eff7-483a-f767-6e5ffcad76a4"
      },
      "execution_count": 43,
      "outputs": [
        {
          "output_type": "execute_result",
          "data": {
            "text/plain": [
              "['banana', 'sandía', 5, False]"
            ]
          },
          "metadata": {},
          "execution_count": 43
        }
      ]
    },
    {
      "cell_type": "code",
      "source": [
        "#Podría explicar el error generado?\n",
        "ejemplo.remove(4)\n",
        "#El error ocurre debido a que el elemento 4 ya no se encuentra en la lista, por lo que el programa muestra como error,\n",
        "#este elemento no es parte de la lista, por ende no puede eliminar algo que no es parte de ella."
      ],
      "metadata": {
        "colab": {
          "base_uri": "https://localhost:8080/",
          "height": 192
        },
        "id": "ODz7MJvbbh8e",
        "outputId": "f4305e65-ef8d-49e4-b90c-8bdd36451924"
      },
      "execution_count": 44,
      "outputs": [
        {
          "output_type": "error",
          "ename": "ValueError",
          "evalue": "ignored",
          "traceback": [
            "\u001b[0;31m---------------------------------------------------------------------------\u001b[0m",
            "\u001b[0;31mValueError\u001b[0m                                Traceback (most recent call last)",
            "\u001b[0;32m<ipython-input-44-cc5e3be70b57>\u001b[0m in \u001b[0;36m<cell line: 2>\u001b[0;34m()\u001b[0m\n\u001b[1;32m      1\u001b[0m \u001b[0;31m#Podría explicar el error generado?\u001b[0m\u001b[0;34m\u001b[0m\u001b[0;34m\u001b[0m\u001b[0m\n\u001b[0;32m----> 2\u001b[0;31m \u001b[0mejemplo\u001b[0m\u001b[0;34m.\u001b[0m\u001b[0mremove\u001b[0m\u001b[0;34m(\u001b[0m\u001b[0;36m4\u001b[0m\u001b[0;34m)\u001b[0m\u001b[0;34m\u001b[0m\u001b[0;34m\u001b[0m\u001b[0m\n\u001b[0m",
            "\u001b[0;31mValueError\u001b[0m: list.remove(x): x not in list"
          ]
        }
      ]
    },
    {
      "cell_type": "code",
      "source": [
        "#Podría explicar el resultado de este método?\n",
        "del ejemplo[2]\n",
        "ejemplo\n",
        "#Este método elimina un elemento de la lista basado en su posición, en este caso el elemento 2 era 5 y por posición este fue eliminado de la lista,\n",
        "#a diferencia del método anterior que eliminaba el elemento indicado por su nombre y no por su posición."
      ],
      "metadata": {
        "colab": {
          "base_uri": "https://localhost:8080/"
        },
        "id": "lhRUkQOEcWHu",
        "outputId": "cdd7672a-3e21-4df4-bb5c-5f4720d75412"
      },
      "execution_count": 45,
      "outputs": [
        {
          "output_type": "execute_result",
          "data": {
            "text/plain": [
              "['banana', 'sandía', False]"
            ]
          },
          "metadata": {},
          "execution_count": 45
        }
      ]
    },
    {
      "cell_type": "markdown",
      "source": [
        "### EJERCICIO PARA GANAR UNA CHEMS COIN 🤑☝\n",
        "\n",
        "![Texto alternativo](https://cdn.memegenerator.es/imagenes/memes/full/28/50/28507442.jpg)\n",
        "\n",
        "Realiza el ejercicio propuesto de forma correcta antes de que acabe el tiempo, y hazte acreedor@ de eliminar un quest obligatorio ✨**Sólo para el primero que realice el envío.** ✨"
      ],
      "metadata": {
        "id": "hmS_3bTvgCph"
      }
    },
    {
      "cell_type": "code",
      "source": [
        "# Revise la página https://www.researchgate.net/publication/273298847_Piedra_Papel_Tijera_y_sus_generalizaciones\n",
        "#Programe Piedra, papel, tijera, spock, lagarto, Papa y heavy usando arreglos.\n",
        "import random\n",
        "move=[\"Piedra\", \"Papel\", \"Tijera\", \"Spock\", \"Lagarto\", \"Papa\", \"Heavy\"]\n",
        "movenu=int(input(\"Ingrese el número de su movimiento: 0.Piedra, 1.Papel, 2.Tijera, 3.Spock, 4.Lagarto, 5.Papa, 6.Heavy \"))\n",
        "if movenu>6:\n",
        "  while movenu>6:\n",
        "    print(\"Numéro invalido, por favor intente de nuevo\")\n",
        "    movenu=int(input(\"Ingrese el número de su movimiento: 1.Piedra, 2.Papel, 3.Tijera, 4.Spock, 5.Lagarto, 6.Papa, 7.Heavy \"))\n",
        "moveai=int(random.uniform(0,7))\n",
        "if movenu==0 and moveai==0:\n",
        "  print(\"Jugador: \",move[movenu], \"AI: \",move[moveai],\"Empate\")\n",
        "elif movenu==0 and moveai==1:\n",
        "  print(\"Jugador: \",move[movenu], \"AI: \",move[moveai],\"Gana \",move[moveai])\n",
        "elif movenu==0 and moveai==2:\n",
        "  print(\"Jugador: \",move[movenu], \"AI: \",move[moveai],\"Gana \",move[movenu])\n",
        "elif movenu==0 and moveai==3:\n",
        "  print(\"Jugador: \",move[movenu], \"AI: \",move[moveai],\"Gana \",move[moveai])\n",
        "elif movenu==0 and moveai==4:\n",
        "  print(\"Jugador: \",move[movenu], \"AI: \",move[moveai],\"Gana \",move[movenu])\n",
        "elif movenu==0 and moveai==5:\n",
        "  print(\"Jugador: \",move[movenu], \"AI: \",move[moveai],\"Gana \",move[moveai])\n",
        "elif movenu==0 and moveai==6:\n",
        "  print(\"Jugador: \",move[movenu], \"AI: \",move[moveai],\"Gana \",move[movenu])\n",
        "\n",
        "if movenu==1 and moveai==0:\n",
        "  print(\"Jugador: \",move[movenu], \"AI: \",move[moveai],\"Gana \",move[movenu])\n",
        "elif movenu==1 and moveai==1:\n",
        "  print(\"Jugador: \",move[movenu], \"AI: \",move[moveai],\"Empate\")\n",
        "elif movenu==1 and moveai==2:\n",
        "  print(\"Jugador: \",move[movenu], \"AI: \",move[moveai],\"Gana \",move[moveai])\n",
        "elif movenu==1 and moveai==3:\n",
        "  print(\"Jugador: \",move[movenu], \"AI: \",move[moveai],\"Gana \",move[movenu])\n",
        "elif movenu==1 and moveai==4:\n",
        "  print(\"Jugador: \",move[movenu], \"AI: \",move[moveai],\"Gana \",move[moveai])\n",
        "elif movenu==1 and moveai==5:\n",
        "  print(\"Jugador: \",move[movenu], \"AI: \",move[moveai],\"Gana \",move[moveai])\n",
        "elif movenu==1 and moveai==6:\n",
        "  print(\"Jugador: \",move[movenu], \"AI: \",move[moveai],\"Gana \",move[movenu])\n",
        "\n",
        "if movenu==2 and moveai==0:\n",
        "  print(\"Jugador: \",move[movenu], \"AI: \",move[moveai],\"Gana \",move[moveai])\n",
        "elif movenu==2 and moveai==1:\n",
        "  print(\"Jugador: \",move[movenu], \"AI: \",move[moveai],\"Gana \",move[movenu])\n",
        "elif movenu==2 and moveai==2:\n",
        "  print(\"Jugador: \",move[movenu], \"AI: \",move[moveai],\"Empate\")\n",
        "elif movenu==2 and moveai==3:\n",
        "  print(\"Jugador: \",move[movenu], \"AI: \",move[moveai],\"Gana \",move[moveai])\n",
        "elif movenu==2 and moveai==4:\n",
        "  print(\"Jugador: \",move[movenu], \"AI: \",move[moveai],\"Gana \",move[movenu])\n",
        "elif movenu==2 and moveai==5:\n",
        "  print(\"Jugador: \",move[movenu], \"AI: \",move[moveai],\"Gana \",move[moveai])\n",
        "elif movenu==2 and moveai==6:\n",
        "  print(\"Jugador: \",move[movenu], \"AI: \",move[moveai],\"Gana \",move[movenu])\n",
        "\n",
        "if movenu==3 and moveai==0:\n",
        "  print(\"Jugador: \",move[movenu], \"AI: \",move[moveai],\"Gana \",move[movenu])\n",
        "elif movenu==3 and moveai==1:\n",
        "  print(\"Jugador: \",move[movenu], \"AI: \",move[moveai],\"Gana \",move[moveai])\n",
        "elif movenu==3 and moveai==2:\n",
        "  print(\"Jugador: \",move[movenu], \"AI: \",move[moveai],\"Gana \",move[movenu])\n",
        "elif movenu==3 and moveai==3:\n",
        "  print(\"Jugador: \",move[movenu], \"AI: \",move[moveai],\"Empate\")\n",
        "elif movenu==3 and moveai==4:\n",
        "  print(\"Jugador: \",move[movenu], \"AI: \",move[moveai],\"Gana \",move[moveai])\n",
        "elif movenu==3 and moveai==5:\n",
        "  print(\"Jugador: \",move[movenu], \"AI: \",move[moveai],\"Gana \",move[movenu])\n",
        "elif movenu==3 and moveai==6:\n",
        "  print(\"Jugador: \",move[movenu], \"AI: \",move[moveai],\"Gana \",move[moveai])\n",
        "\n",
        "if movenu==4 and moveai==0:\n",
        "  print(\"Jugador: \",move[movenu], \"AI: \",move[moveai],\"Gana \",move[moveai])\n",
        "elif movenu==4 and moveai==1:\n",
        "  print(\"Jugador: \",move[movenu], \"AI: \",move[moveai],\"Gana \",move[movenu])\n",
        "elif movenu==4 and moveai==2:\n",
        "  print(\"Jugador: \",move[movenu], \"AI: \",move[moveai],\"Gana \",move[moveai])\n",
        "elif movenu==4 and moveai==3:\n",
        "  print(\"Jugador: \",move[movenu], \"AI: \",move[moveai],\"Gana \",move[movenu])\n",
        "elif movenu==4 and moveai==4:\n",
        "  print(\"Jugador: \",move[movenu], \"AI: \",move[moveai],\"Empate\")\n",
        "elif movenu==4 and moveai==5:\n",
        "  print(\"Jugador: \",move[movenu], \"AI: \",move[moveai],\"Gana \",move[movenu])\n",
        "elif movenu==4 and moveai==6:\n",
        "  print(\"Jugador: \",move[movenu], \"AI: \",move[moveai],\"Gana \",move[moveai])\n",
        "\n",
        "if movenu==5 and moveai==0:\n",
        "  print(\"Jugador: \",move[movenu], \"AI: \",move[moveai],\"Gana \",move[movenu])\n",
        "elif movenu==5 and moveai==1:\n",
        "  print(\"Jugador: \",move[movenu], \"AI: \",move[moveai],\"Gana \",move[movenu])\n",
        "elif movenu==5 and moveai==2:\n",
        "  print(\"Jugador: \",move[movenu], \"AI: \",move[moveai],\"Gana \",move[movenu])\n",
        "elif movenu==5 and moveai==3:\n",
        "  print(\"Jugador: \",move[movenu], \"AI: \",move[moveai],\"Gana \",move[moveai])\n",
        "elif movenu==5 and moveai==4:\n",
        "  print(\"Jugador: \",move[movenu], \"AI: \",move[moveai],\"Gana \",move[moveai])\n",
        "elif movenu==5 and moveai==5:\n",
        "  print(\"Jugador: \",move[movenu], \"AI: \",move[moveai],\"Empate\")\n",
        "elif movenu==5 and moveai==6:\n",
        "  print(\"Jugador: \",move[movenu], \"AI: \",move[moveai],\"Gana \",move[moveai])\n",
        "\n",
        "if movenu==6 and moveai==0:\n",
        "  print(\"Jugador: \",move[movenu], \"AI: \",move[moveai],\"Gana \",move[moveai])\n",
        "elif movenu==6 and moveai==1:\n",
        "  print(\"Jugador: \",move[movenu], \"AI: \",move[moveai],\"Gana \",move[moveai])\n",
        "elif movenu==6 and moveai==2:\n",
        "  print(\"Jugador: \",move[movenu], \"AI: \",move[moveai],\"Gana \",move[moveai])\n",
        "elif movenu==6 and moveai==3:\n",
        "  print(\"Jugador: \",move[movenu], \"AI: \",move[moveai],\"Gana \",move[movenu])\n",
        "elif movenu==6 and moveai==4:\n",
        "  print(\"Jugador: \",move[movenu], \"AI: \",move[moveai],\"Gana \",move[movenu])\n",
        "elif movenu==6 and moveai==5:\n",
        "  print(\"Jugador: \",move[movenu], \"AI: \",move[moveai],\"Gana \",move[movenu])\n",
        "elif movenu==5 and moveai==6:\n",
        "  print(\"Jugador: \",move[movenu], \"AI: \",move[moveai],\"Empate\")"
      ],
      "metadata": {
        "id": "p0SGwGpNgBaz",
        "colab": {
          "base_uri": "https://localhost:8080/"
        },
        "outputId": "cd11c72b-b58c-4aa4-b23e-0d962f990400"
      },
      "execution_count": 60,
      "outputs": [
        {
          "output_type": "stream",
          "name": "stdout",
          "text": [
            "Ingrese el número de su movimiento: 0.Piedra, 1.Papel, 2.Tijera, 3.Spock, 4.Lagarto, 5.Papa, 6.Heavy 2\n",
            "Jugador:  Tijera AI:  Heavy Gana  Tijera\n"
          ]
        }
      ]
    }
  ]
}