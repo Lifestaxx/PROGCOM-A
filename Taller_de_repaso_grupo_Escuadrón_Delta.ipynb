{
  "nbformat": 4,
  "nbformat_minor": 0,
  "metadata": {
    "colab": {
      "provenance": [],
      "authorship_tag": "ABX9TyM1iyodf26ZTWwCbRjToD/G",
      "include_colab_link": true
    },
    "kernelspec": {
      "name": "python3",
      "display_name": "Python 3"
    },
    "language_info": {
      "name": "python"
    }
  },
  "cells": [
    {
      "cell_type": "markdown",
      "metadata": {
        "id": "view-in-github",
        "colab_type": "text"
      },
      "source": [
        "<a href=\"https://colab.research.google.com/github/Lifestaxx/PROGCOM-A/blob/main/Taller_de_repaso_grupo_Escuadr%C3%B3n_Delta.ipynb\" target=\"_parent\"><img src=\"https://colab.research.google.com/assets/colab-badge.svg\" alt=\"Open In Colab\"/></a>"
      ]
    },
    {
      "cell_type": "markdown",
      "source": [
        "#Integrantes del equipo:\n",
        "##Juan Diego Suárez\n",
        "##Santiago Sanabria\n",
        "##Santiago Varela"
      ],
      "metadata": {
        "id": "ToVuu4GMqCSV"
      }
    },
    {
      "cell_type": "code",
      "execution_count": 5,
      "metadata": {
        "colab": {
          "base_uri": "https://localhost:8080/"
        },
        "id": "J6z6HtzBYLz4",
        "outputId": "6e241bdf-a0f7-4d40-ae6a-be7c2cf642eb"
      },
      "outputs": [
        {
          "output_type": "stream",
          "name": "stdout",
          "text": [
            "Ingrese la cantidad de números que desee digitar 4\n",
            "Ingrese un número cualquiera 20\n",
            "20  es un número positivo\n",
            "Ingrese un número cualquiera 6787\n",
            "6787  es un número positivo\n",
            "6787  es un número de 4 dígitos\n",
            "Ingrese un número cualquiera 56\n",
            "56  es un número positivo\n",
            "Ingrese un número cualquiera 66\n",
            "66  es un número positivo\n"
          ]
        }
      ],
      "source": [
        "#1\n",
        "n=int(input(\"Ingrese la cantidad de números que desee digitar \"))\n",
        "for i in range(1,n+1):\n",
        "  num=int(input(\"Ingrese un número cualquiera \"))\n",
        "  if num==abs(num):\n",
        "    print(num, \" es un número positivo\")\n",
        "  if len(str(num))==4:\n",
        "    print(num, \" es un número de 4 dígitos\")"
      ]
    },
    {
      "cell_type": "code",
      "source": [
        "#2\n",
        "m=int(input(\"Ingrese la cantidad de números que desea digitar \"))\n",
        "for i in range(1,m+1):\n",
        "  npi=int(input(\"Ingrese un número cualquiera \"))\n",
        "  if (npi % 2)== 0:\n",
        "    print(npi, \" es un número par\")\n",
        "  else:\n",
        "    print(npi, \" es un número impar\")"
      ],
      "metadata": {
        "colab": {
          "base_uri": "https://localhost:8080/"
        },
        "id": "zte68UGVbAZv",
        "outputId": "38dbd5db-7df6-4140-8062-88537412dd20"
      },
      "execution_count": 13,
      "outputs": [
        {
          "output_type": "stream",
          "name": "stdout",
          "text": [
            "Ingrese la cantidad de números que desea digitar 4\n",
            "Ingrese un número cualquiera 50\n",
            "50  es un número par\n",
            "Ingrese un número cualquiera 32\n",
            "32  es un número par\n",
            "Ingrese un número cualquiera 85\n",
            "85  es un número impar\n",
            "Ingrese un número cualquiera 96\n",
            "96  es un número par\n"
          ]
        }
      ]
    },
    {
      "cell_type": "code",
      "source": [
        "#3\n",
        "m=int(input(\"Ingrese la cantidad de números que desea digitar \"))\n",
        "for i in range(1,m+1):\n",
        "  nud=int(input(\"Ingrese un número cualquiera \"))\n",
        "  nudstr=str(nud)\n",
        "  if (int(nudstr[-1:])%2)==0:\n",
        "    print(\"El último dígito de \",nud, \" es \" ,nudstr[-1:], \" por lo cual es par\")"
      ],
      "metadata": {
        "colab": {
          "base_uri": "https://localhost:8080/"
        },
        "id": "pD2F56BKco6y",
        "outputId": "3f767d7e-553f-4046-c651-36b06c61e4ac"
      },
      "execution_count": 17,
      "outputs": [
        {
          "output_type": "stream",
          "name": "stdout",
          "text": [
            "Ingrese la cantidad de números que desea digitar 3\n",
            "Ingrese un número cualquiera 678\n",
            "El último dígito de  678  es  8  por lo cual es par\n",
            "Ingrese un número cualquiera 389\n",
            "Ingrese un número cualquiera 735743736\n",
            "El último dígito de  735743736  es  6  por lo cual es par\n"
          ]
        }
      ]
    },
    {
      "cell_type": "code",
      "source": [
        "#4\n",
        "m=int(input(\"Ingrese la cantidad de números que desea digitar \"))\n",
        "for i in range(1,m+1):\n",
        "  nud=int(input(\"Ingrese un número cualquiera \"))\n",
        "  nudstr=str(nud)\n",
        "  if (int(nudstr[-1:])%2)!=0:\n",
        "    print(\"El último dígito de \",nud, \" es \" ,nudstr[-1:], \" por lo cual es impar\")\n",
        "    break"
      ],
      "metadata": {
        "colab": {
          "base_uri": "https://localhost:8080/"
        },
        "id": "ejPC0nrOfqLY",
        "outputId": "67e70eaa-4cf2-461e-c65f-0aeaf8abc7f0"
      },
      "execution_count": 18,
      "outputs": [
        {
          "output_type": "stream",
          "name": "stdout",
          "text": [
            "Ingrese la cantidad de números que desea digitar 4\n",
            "Ingrese un número cualquiera 66\n",
            "Ingrese un número cualquiera 82\n",
            "Ingrese un número cualquiera 45\n",
            "El último dígito de  45  es  5  por lo cual es impar\n"
          ]
        }
      ]
    },
    {
      "cell_type": "code",
      "source": [
        "#5\n",
        "bstr=\"a\"\n",
        "while (len(bstr)==1):\n",
        "  b=int(input(\"Oprima alguno de los botones 1, 2 o 3 \"))\n",
        "  bstr=str(b)\n",
        "  while (len(bstr)>2):\n",
        "    print(\"No puede oprimir mas de dos botones al tiempo\")\n",
        "    b=int(input(\"Oprima alguno de los botones 1, 2 o 3\"))\n",
        "    bstr=str(b)\n",
        "  while (int(bstr[0])>3):\n",
        "    print(\"No puede ingresar otro botón mas allá de 3\")\n",
        "    b=int(input(\"Oprima alguno de los botones 1, 2 o 3\"))\n",
        "    bstr=str(b)\n",
        "  if len(bstr)==2:\n",
        "    while ((int(bstr[1])>3)):\n",
        "      print(\"No puede ingresar otro botón mas allá de 3\")\n",
        "      b=int(input(\"Oprima alguno de los botones 1, 2 o 3\"))\n",
        "      bstr=str(b)\n",
        "  if b==1:\n",
        "    print(\"BARA BARA\")\n",
        "  elif b==2:\n",
        "    print(\"BERE BERE\")\n",
        "  elif b==3:\n",
        "    print(\"BIRI BIRI\")\n"
      ],
      "metadata": {
        "colab": {
          "base_uri": "https://localhost:8080/"
        },
        "id": "c-F_zW3lfrZw",
        "outputId": "6da5b39c-e38f-4f83-901f-bdddc1521001"
      },
      "execution_count": 29,
      "outputs": [
        {
          "name": "stdout",
          "output_type": "stream",
          "text": [
            "Oprima alguno de los botones 1, 2 o 3 31\n"
          ]
        }
      ]
    },
    {
      "cell_type": "code",
      "source": [
        "#6\n",
        "f=0\n",
        "n=int(input(\"ingrese la cantidad de números que quiere analizar (si la suma de sus números da 10, el programa se detendrá) \"))\n",
        "for i in range(n):\n",
        "  i=int(input(\"ingrese un número cualquiera \"))\n",
        "  f=f+i\n",
        "  if f==10:\n",
        "    print(f\"{f} es la suma de sus números\" )\n",
        "    break\n",
        "  else:\n",
        "     print(f\"{f} es la suma actual de sus números\" )"
      ],
      "metadata": {
        "colab": {
          "base_uri": "https://localhost:8080/"
        },
        "id": "riWq02vWfsyI",
        "outputId": "ed804eb8-b8ea-4dec-d96c-1680f98e768e"
      },
      "execution_count": 9,
      "outputs": [
        {
          "output_type": "stream",
          "name": "stdout",
          "text": [
            "ingrese la cantidad de números que quiere analizar (si la suma de sus números da 10, el programa se detendrá) 2\n",
            "ingrese un número cualquiera 1\n",
            "1 es la suma actual de sus números\n",
            "ingrese un número cualquiera 3\n",
            "4 es la suma actual de sus números\n"
          ]
        }
      ]
    },
    {
      "cell_type": "code",
      "source": [
        "#7\n",
        "numeros = []\n",
        "for i in range (10):\n",
        "    numero = int(input(f\"ingrese el numero {i + 1}: \"))\n",
        "    numeros.append(numero)\n",
        "print(f\"el numero mayor es: {max(numeros)}\")\n",
        "print(f\"el numero menor es: {min(numeros)}\")"
      ],
      "metadata": {
        "colab": {
          "base_uri": "https://localhost:8080/"
        },
        "id": "KoIEh-r3fttg",
        "outputId": "141bde9f-35a7-40b0-8282-f370d5acb6d8"
      },
      "execution_count": 3,
      "outputs": [
        {
          "output_type": "stream",
          "name": "stdout",
          "text": [
            "ingrese el numero 1: 7\n",
            "ingrese el numero 2: 8\n",
            "ingrese el numero 3: 9\n",
            "ingrese el numero 4: 3\n",
            "ingrese el numero 5: 6\n",
            "ingrese el numero 6: 4\n",
            "ingrese el numero 7: 5\n",
            "ingrese el numero 8: 2\n",
            "ingrese el numero 9: 1\n",
            "ingrese el numero 10: 6\n",
            "el numero mayor es: 9\n",
            "el numero menor es: 1\n"
          ]
        }
      ]
    },
    {
      "cell_type": "code",
      "source": [
        "#8\n",
        "palabras = []\n",
        "for i in range (10):\n",
        "    palabra = input(f\"ingrese la palabra {i + 1}: \")\n",
        "    palabras.append(palabra)\n",
        "contador = 0\n",
        "for palabra in palabras:\n",
        "    if len (palabra) > 5:\n",
        "       contador +=1\n",
        "print(f\"existen {contador} palabras con mas de 5 caracteres. \")"
      ],
      "metadata": {
        "colab": {
          "base_uri": "https://localhost:8080/"
        },
        "id": "TyT2cXCqlbnn",
        "outputId": "83b5481a-9b6c-4cb1-ac1c-5ea5dd7f2239"
      },
      "execution_count": 4,
      "outputs": [
        {
          "output_type": "stream",
          "name": "stdout",
          "text": [
            "ingrese la palabra 1: sgsgs\n",
            "ingrese la palabra 2: awewg\n",
            "ingrese la palabra 3: vs\n",
            "ingrese la palabra 4: qwefwq\n",
            "ingrese la palabra 5: fd\n",
            "ingrese la palabra 6: qeqqq\n",
            "ingrese la palabra 7: orod\n",
            "ingrese la palabra 8: s\n",
            "ingrese la palabra 9: ts\n",
            "ingrese la palabra 10: pop\n",
            "existen 1 palabras con mas de 5 caracteres. \n"
          ]
        }
      ]
    },
    {
      "cell_type": "code",
      "source": [
        "#9\n",
        "numero = input(\"ingrese un digito: \")\n",
        "if numero.isdigit():\n",
        "  primer_digito = int(numero[0])\n",
        "  ultimo_digito = int(numero[-1])\n",
        "  if primer_digito % 2 == 0:\n",
        "          print(\"el primer digito es par\")\n",
        "  else:\n",
        "          print(\"el primer digito no es par\")\n",
        "  if ultimo_digito % 2 != 0:\n",
        "    print(\"el ultimo digito es impar\")\n",
        "  else:\n",
        "    print(\"el ultimo digito no es impar\")\n",
        "else:\n",
        "  print(\"Valor no valido. ingrese nuevamente el digito\")"
      ],
      "metadata": {
        "colab": {
          "base_uri": "https://localhost:8080/"
        },
        "id": "j8a_UQA-lc6F",
        "outputId": "7e4afb45-e8d1-42dc-ac7a-11a3f3f22b9d"
      },
      "execution_count": 8,
      "outputs": [
        {
          "output_type": "stream",
          "name": "stdout",
          "text": [
            "ingrese un digito: 43\n",
            "el primer digito es par\n",
            "el ultimo digito es impar\n"
          ]
        }
      ]
    },
    {
      "cell_type": "code",
      "source": [
        "#10\n",
        "datos=[\"20\",\"21\",\"30\",\"45\",\"50\",\"51\",\"201\"]\n",
        "for i in range(7):\n",
        "  datosstr=datos[i]\n",
        "  if int(datosstr[-1:])!=1:\n",
        "    print(datosstr)"
      ],
      "metadata": {
        "colab": {
          "base_uri": "https://localhost:8080/"
        },
        "id": "lIi_n9c2ldpu",
        "outputId": "aa65abc8-a6bf-4d7c-bd21-244a102fd07d"
      },
      "execution_count": 36,
      "outputs": [
        {
          "output_type": "stream",
          "name": "stdout",
          "text": [
            "20\n",
            "30\n",
            "45\n",
            "50\n"
          ]
        }
      ]
    },
    {
      "cell_type": "code",
      "source": [
        "#11\n",
        "for i in range(10):\n",
        "  print(\"PROGRAMACIÓN\")"
      ],
      "metadata": {
        "colab": {
          "base_uri": "https://localhost:8080/"
        },
        "id": "lk7L29_gnRI0",
        "outputId": "6f8d561d-5173-46d9-baf9-de93b65cdcb0"
      },
      "execution_count": 37,
      "outputs": [
        {
          "output_type": "stream",
          "name": "stdout",
          "text": [
            "PROGRAMACIÓN\n",
            "PROGRAMACIÓN\n",
            "PROGRAMACIÓN\n",
            "PROGRAMACIÓN\n",
            "PROGRAMACIÓN\n",
            "PROGRAMACIÓN\n",
            "PROGRAMACIÓN\n",
            "PROGRAMACIÓN\n",
            "PROGRAMACIÓN\n",
            "PROGRAMACIÓN\n"
          ]
        }
      ]
    },
    {
      "cell_type": "code",
      "source": [
        "#12\n",
        "print(\"Ingrese el tiempo inicial del temporizador\")\n",
        "min=int(input(\"Minutos: \"))\n",
        "while (min>60):\n",
        "  print(\"No puede ingresar un valor mayor a 60, intente de nuevo\")\n",
        "  min=int(input(\"Minutos: \"))\n",
        "s=int(input(\"Segundos: \"))\n",
        "while (s>60):\n",
        "  print(\"No puede ingresar un valor mayor a 60, intente de nuevo\")\n",
        "  s=int(input(\"Segundos: \"))\n",
        "sac=s\n",
        "minac=min\n",
        "for i in range(s,0,-1):\n",
        "  sac=sac-1\n",
        "  sacstr=str(sac)\n",
        "  if len(sacstr)==1:\n",
        "    print(minac,sac,sep=\":0\")\n",
        "  else:\n",
        "    print(minac,sac,sep=\":\")\n",
        "if (sac==0):\n",
        "  for j in range(min,0,-1):\n",
        "    sac=60\n",
        "    minac=minac-1\n",
        "    for i in range(sac,0,-1):\n",
        "      sac=sac-1\n",
        "      sacstr=str(sac)\n",
        "      if len(sacstr)==1:\n",
        "        print(minac,sac,sep=\":0\")\n",
        "      else:\n",
        "        print(minac,sac,sep=\":\")\n",
        "    if minac==0 and sac==0: break"
      ],
      "metadata": {
        "colab": {
          "base_uri": "https://localhost:8080/"
        },
        "id": "YtffGa6wngFT",
        "outputId": "60e813dc-e321-4c35-c1bb-a8add84fa3e8"
      },
      "execution_count": 59,
      "outputs": [
        {
          "output_type": "stream",
          "name": "stdout",
          "text": [
            "Ingrese el tiempo inicial del temporizador\n",
            "Minutos: 2\n",
            "Segundos: 20\n",
            "2:19\n",
            "2:18\n",
            "2:17\n",
            "2:16\n",
            "2:15\n",
            "2:14\n",
            "2:13\n",
            "2:12\n",
            "2:11\n",
            "2:10\n",
            "2:09\n",
            "2:08\n",
            "2:07\n",
            "2:06\n",
            "2:05\n",
            "2:04\n",
            "2:03\n",
            "2:02\n",
            "2:01\n",
            "2:00\n",
            "1:59\n",
            "1:58\n",
            "1:57\n",
            "1:56\n",
            "1:55\n",
            "1:54\n",
            "1:53\n",
            "1:52\n",
            "1:51\n",
            "1:50\n",
            "1:49\n",
            "1:48\n",
            "1:47\n",
            "1:46\n",
            "1:45\n",
            "1:44\n",
            "1:43\n",
            "1:42\n",
            "1:41\n",
            "1:40\n",
            "1:39\n",
            "1:38\n",
            "1:37\n",
            "1:36\n",
            "1:35\n",
            "1:34\n",
            "1:33\n",
            "1:32\n",
            "1:31\n",
            "1:30\n",
            "1:29\n",
            "1:28\n",
            "1:27\n",
            "1:26\n",
            "1:25\n",
            "1:24\n",
            "1:23\n",
            "1:22\n",
            "1:21\n",
            "1:20\n",
            "1:19\n",
            "1:18\n",
            "1:17\n",
            "1:16\n",
            "1:15\n",
            "1:14\n",
            "1:13\n",
            "1:12\n",
            "1:11\n",
            "1:10\n",
            "1:09\n",
            "1:08\n",
            "1:07\n",
            "1:06\n",
            "1:05\n",
            "1:04\n",
            "1:03\n",
            "1:02\n",
            "1:01\n",
            "1:00\n",
            "0:59\n",
            "0:58\n",
            "0:57\n",
            "0:56\n",
            "0:55\n",
            "0:54\n",
            "0:53\n",
            "0:52\n",
            "0:51\n",
            "0:50\n",
            "0:49\n",
            "0:48\n",
            "0:47\n",
            "0:46\n",
            "0:45\n",
            "0:44\n",
            "0:43\n",
            "0:42\n",
            "0:41\n",
            "0:40\n",
            "0:39\n",
            "0:38\n",
            "0:37\n",
            "0:36\n",
            "0:35\n",
            "0:34\n",
            "0:33\n",
            "0:32\n",
            "0:31\n",
            "0:30\n",
            "0:29\n",
            "0:28\n",
            "0:27\n",
            "0:26\n",
            "0:25\n",
            "0:24\n",
            "0:23\n",
            "0:22\n",
            "0:21\n",
            "0:20\n",
            "0:19\n",
            "0:18\n",
            "0:17\n",
            "0:16\n",
            "0:15\n",
            "0:14\n",
            "0:13\n",
            "0:12\n",
            "0:11\n",
            "0:10\n",
            "0:09\n",
            "0:08\n",
            "0:07\n",
            "0:06\n",
            "0:05\n",
            "0:04\n",
            "0:03\n",
            "0:02\n",
            "0:01\n",
            "0:00\n"
          ]
        }
      ]
    },
    {
      "cell_type": "code",
      "source": [
        "#13\n",
        "for meses in [\"E\",\"F\",\"M\",\"A\"]:\n",
        "  if \"E\" in meses:\n",
        "    print(\"enero\")\n",
        "  if \"F\" in meses:\n",
        "    print(\"febrero\")\n",
        "  if \"M\" in meses:\n",
        "    print(\"marzo\")\n",
        "  if \"A\" in meses:\n",
        "    print(\"abril\")"
      ],
      "metadata": {
        "colab": {
          "base_uri": "https://localhost:8080/"
        },
        "id": "SVN7LqN56XAp",
        "outputId": "e95560e6-64f2-4fe9-c24f-1e1737d93b84"
      },
      "execution_count": 10,
      "outputs": [
        {
          "output_type": "stream",
          "name": "stdout",
          "text": [
            "enero\n",
            "febrero\n",
            "marzo\n",
            "abril\n"
          ]
        }
      ]
    },
    {
      "cell_type": "code",
      "source": [
        "#14\n",
        "nom=str(input(\"ingrese una palabra \"))\n",
        "c=0\n",
        "for i in nom:\n",
        "  c=c+1\n",
        "  print(nom[0:c])"
      ],
      "metadata": {
        "colab": {
          "base_uri": "https://localhost:8080/"
        },
        "id": "u8hR-mfc6bkx",
        "outputId": "159158e2-b7cb-4724-f56c-ac318eae04c1"
      },
      "execution_count": 11,
      "outputs": [
        {
          "output_type": "stream",
          "name": "stdout",
          "text": [
            "ingrese una palabra sopa\n",
            "s\n",
            "so\n",
            "sop\n",
            "sopa\n"
          ]
        }
      ]
    },
    {
      "cell_type": "code",
      "source": [
        "#16\n",
        "cadena = input(\"ingrese una cadena de caracteres:\")\n",
        "for caracter in cadena:\n",
        "  print(caracter)"
      ],
      "metadata": {
        "colab": {
          "base_uri": "https://localhost:8080/"
        },
        "id": "TTyOiE2t6oRI",
        "outputId": "89ad1f68-256b-48a3-f880-3144ee19d860"
      },
      "execution_count": 13,
      "outputs": [
        {
          "output_type": "stream",
          "name": "stdout",
          "text": [
            "ingrese una cadena de caracteres:afqefef\n",
            "a\n",
            "f\n",
            "q\n",
            "e\n",
            "f\n",
            "e\n",
            "f\n"
          ]
        }
      ]
    },
    {
      "cell_type": "code",
      "source": [
        "#17\n",
        "cadena = input(\"ingrese una cadena de caracteres: \")\n",
        "contador_A = 0\n",
        "for caracter in cadena:\n",
        "  if caracter == \"A\":\n",
        "    contador_A += 1\n",
        "print(f\"la letra A mayuscula {contador_A} a la cadena \")"
      ],
      "metadata": {
        "colab": {
          "base_uri": "https://localhost:8080/"
        },
        "id": "R097HVPg6wBQ",
        "outputId": "03ee5063-2a7b-4064-a1e8-851dc80e3d06"
      },
      "execution_count": 15,
      "outputs": [
        {
          "output_type": "stream",
          "name": "stdout",
          "text": [
            "ingrese una cadena de caracteres: Angela\n",
            "la letra A mayuscula 1 a la cadena \n"
          ]
        }
      ]
    },
    {
      "cell_type": "code",
      "source": [
        "#18\n",
        "suma = 0\n",
        "for numero in range (1, 1001):\n",
        "   suma += numero\n",
        "print(f\"la suma entre los numeros del 1 al 1000 son: {suma}\")"
      ],
      "metadata": {
        "colab": {
          "base_uri": "https://localhost:8080/"
        },
        "id": "HWqeC05G66O3",
        "outputId": "b9ffb850-e836-46fe-ad1e-b9f89986c1df"
      },
      "execution_count": 17,
      "outputs": [
        {
          "output_type": "stream",
          "name": "stdout",
          "text": [
            "la suma entre los numeros del 1 al 1000 son: 500500\n"
          ]
        }
      ]
    },
    {
      "cell_type": "code",
      "source": [
        "#19\n",
        "for numero in range (13, 49):\n",
        "    if numero % 5 == 0:\n",
        "       print(numero)"
      ],
      "metadata": {
        "colab": {
          "base_uri": "https://localhost:8080/"
        },
        "id": "TZS4VK02692X",
        "outputId": "ecdf431d-ed07-4ed5-ad09-f7a16caa89cb"
      },
      "execution_count": 18,
      "outputs": [
        {
          "output_type": "stream",
          "name": "stdout",
          "text": [
            "15\n",
            "20\n",
            "25\n",
            "30\n",
            "35\n",
            "40\n",
            "45\n"
          ]
        }
      ]
    },
    {
      "cell_type": "code",
      "source": [
        "#20\n",
        "for i in range(10,31,6):\n",
        "  print(i)"
      ],
      "metadata": {
        "colab": {
          "base_uri": "https://localhost:8080/"
        },
        "id": "aisys9pn6lCI",
        "outputId": "e9d0d947-852e-49a2-86e8-da9a8f26ad6e"
      },
      "execution_count": 12,
      "outputs": [
        {
          "output_type": "stream",
          "name": "stdout",
          "text": [
            "10\n",
            "16\n",
            "22\n",
            "28\n"
          ]
        }
      ]
    }
  ]
}